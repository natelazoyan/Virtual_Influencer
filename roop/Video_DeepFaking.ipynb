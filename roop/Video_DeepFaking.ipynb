{
  "nbformat": 4,
  "nbformat_minor": 0,
  "metadata": {
    "colab": {
      "provenance": []
    },
    "kernelspec": {
      "name": "python3",
      "display_name": "Python 3"
    },
    "language_info": {
      "name": "python"
    }
  },
  "cells": [
    {
      "cell_type": "markdown",
      "source": [
        "**Video DeepFaking with One Click**"
      ],
      "metadata": {
        "id": "Oda94QcEv2xN"
      }
    },
    {
      "cell_type": "code",
      "execution_count": null,
      "metadata": {
        "colab": {
          "base_uri": "https://localhost:8080/"
        },
        "id": "WRgd49wP3b4B",
        "outputId": "0d26c2b3-0019-4830-9585-92d68e47437f"
      },
      "outputs": [
        {
          "output_type": "stream",
          "name": "stdout",
          "text": [
            "Cloning into 'Virtual_Influencer'...\n",
            "remote: Enumerating objects: 1258, done.\u001b[K\n",
            "remote: Counting objects: 100% (1258/1258), done.\u001b[K\n",
            "remote: Compressing objects: 100% (858/858), done.\u001b[K\n",
            "remote: Total 1258 (delta 364), reused 1252 (delta 361), pack-reused 0\u001b[K\n",
            "Receiving objects: 100% (1258/1258), 2.85 MiB | 13.01 MiB/s, done.\n",
            "Resolving deltas: 100% (364/364), done.\n"
          ]
        }
      ],
      "source": [
        "!git clone -b dev https://github.com/natelazoyan/Virtual_Influencer.git"
      ]
    },
    {
      "cell_type": "code",
      "source": [
        "#@markdown Install Requirements\n",
        "!pip install -r https://raw.githubusercontent.com/natelazoyan/Virtual_Influencer/dev/roop/requirements.txt\n",
        "!pip install tensorflow==2.15\n",
        "!pip install keras==2.14.0"
      ],
      "metadata": {
        "colab": {
          "base_uri": "https://localhost:8080/"
        },
        "id": "JHDHaXUE3eRI",
        "outputId": "5c3698e1-510e-4aa1-8227-8a42aee5d93f",
        "cellView": "form"
      },
      "execution_count": null,
      "outputs": [
        {
          "output_type": "stream",
          "name": "stdout",
          "text": [
            "Looking in indexes: https://pypi.org/simple, https://download.pytorch.org/whl/cu118\n",
            "Ignoring tkinterdnd2-universal: markers 'sys_platform == \"darwin\" and platform_machine == \"arm64\"' don't match your environment\n",
            "Ignoring onnxruntime: markers 'python_version != \"3.9\" and sys_platform == \"darwin\" and platform_machine != \"arm64\"' don't match your environment\n",
            "Ignoring onnxruntime-coreml: markers 'python_version == \"3.9\" and sys_platform == \"darwin\" and platform_machine != \"arm64\"' don't match your environment\n",
            "Ignoring onnxruntime-silicon: markers 'sys_platform == \"darwin\" and platform_machine == \"arm64\"' don't match your environment\n",
            "Requirement already satisfied: torch==2.0.1 in /usr/local/lib/python3.10/dist-packages (from -r https://raw.githubusercontent.com/natelazoyan/Virtual_Influencer/dev/roop/requirements.txt (line 3)) (2.0.1+cu118)\n",
            "Requirement already satisfied: numpy==1.24.3 in /usr/local/lib/python3.10/dist-packages (from -r https://raw.githubusercontent.com/natelazoyan/Virtual_Influencer/dev/roop/requirements.txt (line 4)) (1.24.3)\n",
            "Requirement already satisfied: opencv-python==4.8.0.74 in /usr/local/lib/python3.10/dist-packages (from -r https://raw.githubusercontent.com/natelazoyan/Virtual_Influencer/dev/roop/requirements.txt (line 5)) (4.8.0.74)\n",
            "Requirement already satisfied: onnx==1.14.0 in /usr/local/lib/python3.10/dist-packages (from -r https://raw.githubusercontent.com/natelazoyan/Virtual_Influencer/dev/roop/requirements.txt (line 6)) (1.14.0)\n",
            "Requirement already satisfied: insightface==0.7.3 in /usr/local/lib/python3.10/dist-packages (from -r https://raw.githubusercontent.com/natelazoyan/Virtual_Influencer/dev/roop/requirements.txt (line 7)) (0.7.3)\n",
            "Requirement already satisfied: psutil==5.9.5 in /usr/local/lib/python3.10/dist-packages (from -r https://raw.githubusercontent.com/natelazoyan/Virtual_Influencer/dev/roop/requirements.txt (line 8)) (5.9.5)\n",
            "Requirement already satisfied: tk==0.1.0 in /usr/local/lib/python3.10/dist-packages (from -r https://raw.githubusercontent.com/natelazoyan/Virtual_Influencer/dev/roop/requirements.txt (line 9)) (0.1.0)\n",
            "Requirement already satisfied: customtkinter==5.2.0 in /usr/local/lib/python3.10/dist-packages (from -r https://raw.githubusercontent.com/natelazoyan/Virtual_Influencer/dev/roop/requirements.txt (line 10)) (5.2.0)\n",
            "Requirement already satisfied: tkinterdnd2==0.3.0 in /usr/local/lib/python3.10/dist-packages (from -r https://raw.githubusercontent.com/natelazoyan/Virtual_Influencer/dev/roop/requirements.txt (line 11)) (0.3.0)\n",
            "Requirement already satisfied: pillow==10.0.0 in /usr/local/lib/python3.10/dist-packages (from -r https://raw.githubusercontent.com/natelazoyan/Virtual_Influencer/dev/roop/requirements.txt (line 13)) (10.0.0)\n",
            "Requirement already satisfied: onnxruntime-gpu==1.15.1 in /usr/local/lib/python3.10/dist-packages (from -r https://raw.githubusercontent.com/natelazoyan/Virtual_Influencer/dev/roop/requirements.txt (line 17)) (1.15.1)\n",
            "Requirement already satisfied: tensorflow==2.14.0 in /usr/local/lib/python3.10/dist-packages (from -r https://raw.githubusercontent.com/natelazoyan/Virtual_Influencer/dev/roop/requirements.txt (line 18)) (2.14.0)\n",
            "Requirement already satisfied: protobuf==4.23.4 in /usr/local/lib/python3.10/dist-packages (from -r https://raw.githubusercontent.com/natelazoyan/Virtual_Influencer/dev/roop/requirements.txt (line 19)) (4.23.4)\n",
            "Requirement already satisfied: tqdm==4.65.0 in /usr/local/lib/python3.10/dist-packages (from -r https://raw.githubusercontent.com/natelazoyan/Virtual_Influencer/dev/roop/requirements.txt (line 20)) (4.65.0)\n",
            "Requirement already satisfied: gfpgan==1.3.8 in /usr/local/lib/python3.10/dist-packages (from -r https://raw.githubusercontent.com/natelazoyan/Virtual_Influencer/dev/roop/requirements.txt (line 21)) (1.3.8)\n",
            "Requirement already satisfied: opennsfw2 in /usr/local/lib/python3.10/dist-packages (from -r https://raw.githubusercontent.com/natelazoyan/Virtual_Influencer/dev/roop/requirements.txt (line 22)) (0.13.7)\n",
            "Requirement already satisfied: keras in /usr/local/lib/python3.10/dist-packages (from -r https://raw.githubusercontent.com/natelazoyan/Virtual_Influencer/dev/roop/requirements.txt (line 23)) (2.14.0)\n",
            "Requirement already satisfied: filelock in /usr/local/lib/python3.10/dist-packages (from torch==2.0.1->-r https://raw.githubusercontent.com/natelazoyan/Virtual_Influencer/dev/roop/requirements.txt (line 3)) (3.14.0)\n",
            "Requirement already satisfied: typing-extensions in /usr/local/lib/python3.10/dist-packages (from torch==2.0.1->-r https://raw.githubusercontent.com/natelazoyan/Virtual_Influencer/dev/roop/requirements.txt (line 3)) (4.11.0)\n",
            "Requirement already satisfied: sympy in /usr/local/lib/python3.10/dist-packages (from torch==2.0.1->-r https://raw.githubusercontent.com/natelazoyan/Virtual_Influencer/dev/roop/requirements.txt (line 3)) (1.12)\n",
            "Requirement already satisfied: networkx in /usr/local/lib/python3.10/dist-packages (from torch==2.0.1->-r https://raw.githubusercontent.com/natelazoyan/Virtual_Influencer/dev/roop/requirements.txt (line 3)) (3.3)\n",
            "Requirement already satisfied: jinja2 in /usr/local/lib/python3.10/dist-packages (from torch==2.0.1->-r https://raw.githubusercontent.com/natelazoyan/Virtual_Influencer/dev/roop/requirements.txt (line 3)) (3.1.3)\n",
            "Requirement already satisfied: triton==2.0.0 in /usr/local/lib/python3.10/dist-packages (from torch==2.0.1->-r https://raw.githubusercontent.com/natelazoyan/Virtual_Influencer/dev/roop/requirements.txt (line 3)) (2.0.0)\n",
            "Requirement already satisfied: requests in /usr/local/lib/python3.10/dist-packages (from insightface==0.7.3->-r https://raw.githubusercontent.com/natelazoyan/Virtual_Influencer/dev/roop/requirements.txt (line 7)) (2.31.0)\n",
            "Requirement already satisfied: matplotlib in /usr/local/lib/python3.10/dist-packages (from insightface==0.7.3->-r https://raw.githubusercontent.com/natelazoyan/Virtual_Influencer/dev/roop/requirements.txt (line 7)) (3.7.1)\n",
            "Requirement already satisfied: scipy in /usr/local/lib/python3.10/dist-packages (from insightface==0.7.3->-r https://raw.githubusercontent.com/natelazoyan/Virtual_Influencer/dev/roop/requirements.txt (line 7)) (1.11.4)\n",
            "Requirement already satisfied: scikit-learn in /usr/local/lib/python3.10/dist-packages (from insightface==0.7.3->-r https://raw.githubusercontent.com/natelazoyan/Virtual_Influencer/dev/roop/requirements.txt (line 7)) (1.2.2)\n",
            "Requirement already satisfied: scikit-image in /usr/local/lib/python3.10/dist-packages (from insightface==0.7.3->-r https://raw.githubusercontent.com/natelazoyan/Virtual_Influencer/dev/roop/requirements.txt (line 7)) (0.19.3)\n",
            "Requirement already satisfied: easydict in /usr/local/lib/python3.10/dist-packages (from insightface==0.7.3->-r https://raw.githubusercontent.com/natelazoyan/Virtual_Influencer/dev/roop/requirements.txt (line 7)) (1.13)\n",
            "Requirement already satisfied: cython in /usr/local/lib/python3.10/dist-packages (from insightface==0.7.3->-r https://raw.githubusercontent.com/natelazoyan/Virtual_Influencer/dev/roop/requirements.txt (line 7)) (3.0.10)\n",
            "Requirement already satisfied: albumentations in /usr/local/lib/python3.10/dist-packages (from insightface==0.7.3->-r https://raw.githubusercontent.com/natelazoyan/Virtual_Influencer/dev/roop/requirements.txt (line 7)) (1.3.1)\n",
            "Requirement already satisfied: prettytable in /usr/local/lib/python3.10/dist-packages (from insightface==0.7.3->-r https://raw.githubusercontent.com/natelazoyan/Virtual_Influencer/dev/roop/requirements.txt (line 7)) (3.10.0)\n",
            "Requirement already satisfied: darkdetect in /usr/local/lib/python3.10/dist-packages (from customtkinter==5.2.0->-r https://raw.githubusercontent.com/natelazoyan/Virtual_Influencer/dev/roop/requirements.txt (line 10)) (0.8.0)\n",
            "Requirement already satisfied: coloredlogs in /usr/local/lib/python3.10/dist-packages (from onnxruntime-gpu==1.15.1->-r https://raw.githubusercontent.com/natelazoyan/Virtual_Influencer/dev/roop/requirements.txt (line 17)) (15.0.1)\n",
            "Requirement already satisfied: flatbuffers in /usr/local/lib/python3.10/dist-packages (from onnxruntime-gpu==1.15.1->-r https://raw.githubusercontent.com/natelazoyan/Virtual_Influencer/dev/roop/requirements.txt (line 17)) (24.3.25)\n",
            "Requirement already satisfied: packaging in /usr/local/lib/python3.10/dist-packages (from onnxruntime-gpu==1.15.1->-r https://raw.githubusercontent.com/natelazoyan/Virtual_Influencer/dev/roop/requirements.txt (line 17)) (24.0)\n",
            "Requirement already satisfied: absl-py>=1.0.0 in /usr/local/lib/python3.10/dist-packages (from tensorflow==2.14.0->-r https://raw.githubusercontent.com/natelazoyan/Virtual_Influencer/dev/roop/requirements.txt (line 18)) (1.4.0)\n",
            "Requirement already satisfied: astunparse>=1.6.0 in /usr/local/lib/python3.10/dist-packages (from tensorflow==2.14.0->-r https://raw.githubusercontent.com/natelazoyan/Virtual_Influencer/dev/roop/requirements.txt (line 18)) (1.6.3)\n",
            "Requirement already satisfied: gast!=0.5.0,!=0.5.1,!=0.5.2,>=0.2.1 in /usr/local/lib/python3.10/dist-packages (from tensorflow==2.14.0->-r https://raw.githubusercontent.com/natelazoyan/Virtual_Influencer/dev/roop/requirements.txt (line 18)) (0.5.4)\n",
            "Requirement already satisfied: google-pasta>=0.1.1 in /usr/local/lib/python3.10/dist-packages (from tensorflow==2.14.0->-r https://raw.githubusercontent.com/natelazoyan/Virtual_Influencer/dev/roop/requirements.txt (line 18)) (0.2.0)\n",
            "Requirement already satisfied: h5py>=2.9.0 in /usr/local/lib/python3.10/dist-packages (from tensorflow==2.14.0->-r https://raw.githubusercontent.com/natelazoyan/Virtual_Influencer/dev/roop/requirements.txt (line 18)) (3.9.0)\n",
            "Requirement already satisfied: libclang>=13.0.0 in /usr/local/lib/python3.10/dist-packages (from tensorflow==2.14.0->-r https://raw.githubusercontent.com/natelazoyan/Virtual_Influencer/dev/roop/requirements.txt (line 18)) (18.1.1)\n",
            "Requirement already satisfied: ml-dtypes==0.2.0 in /usr/local/lib/python3.10/dist-packages (from tensorflow==2.14.0->-r https://raw.githubusercontent.com/natelazoyan/Virtual_Influencer/dev/roop/requirements.txt (line 18)) (0.2.0)\n",
            "Requirement already satisfied: opt-einsum>=2.3.2 in /usr/local/lib/python3.10/dist-packages (from tensorflow==2.14.0->-r https://raw.githubusercontent.com/natelazoyan/Virtual_Influencer/dev/roop/requirements.txt (line 18)) (3.3.0)\n",
            "Requirement already satisfied: setuptools in /usr/local/lib/python3.10/dist-packages (from tensorflow==2.14.0->-r https://raw.githubusercontent.com/natelazoyan/Virtual_Influencer/dev/roop/requirements.txt (line 18)) (67.7.2)\n",
            "Requirement already satisfied: six>=1.12.0 in /usr/local/lib/python3.10/dist-packages (from tensorflow==2.14.0->-r https://raw.githubusercontent.com/natelazoyan/Virtual_Influencer/dev/roop/requirements.txt (line 18)) (1.16.0)\n",
            "Requirement already satisfied: termcolor>=1.1.0 in /usr/local/lib/python3.10/dist-packages (from tensorflow==2.14.0->-r https://raw.githubusercontent.com/natelazoyan/Virtual_Influencer/dev/roop/requirements.txt (line 18)) (2.4.0)\n",
            "Requirement already satisfied: wrapt<1.15,>=1.11.0 in /usr/local/lib/python3.10/dist-packages (from tensorflow==2.14.0->-r https://raw.githubusercontent.com/natelazoyan/Virtual_Influencer/dev/roop/requirements.txt (line 18)) (1.14.1)\n",
            "Requirement already satisfied: tensorflow-io-gcs-filesystem>=0.23.1 in /usr/local/lib/python3.10/dist-packages (from tensorflow==2.14.0->-r https://raw.githubusercontent.com/natelazoyan/Virtual_Influencer/dev/roop/requirements.txt (line 18)) (0.37.0)\n",
            "Requirement already satisfied: grpcio<2.0,>=1.24.3 in /usr/local/lib/python3.10/dist-packages (from tensorflow==2.14.0->-r https://raw.githubusercontent.com/natelazoyan/Virtual_Influencer/dev/roop/requirements.txt (line 18)) (1.63.0)\n",
            "Requirement already satisfied: tensorboard<2.15,>=2.14 in /usr/local/lib/python3.10/dist-packages (from tensorflow==2.14.0->-r https://raw.githubusercontent.com/natelazoyan/Virtual_Influencer/dev/roop/requirements.txt (line 18)) (2.14.1)\n",
            "Requirement already satisfied: tensorflow-estimator<2.15,>=2.14.0 in /usr/local/lib/python3.10/dist-packages (from tensorflow==2.14.0->-r https://raw.githubusercontent.com/natelazoyan/Virtual_Influencer/dev/roop/requirements.txt (line 18)) (2.14.0)\n",
            "Requirement already satisfied: basicsr>=1.4.2 in /usr/local/lib/python3.10/dist-packages (from gfpgan==1.3.8->-r https://raw.githubusercontent.com/natelazoyan/Virtual_Influencer/dev/roop/requirements.txt (line 21)) (1.4.2)\n",
            "Requirement already satisfied: facexlib>=0.2.5 in /usr/local/lib/python3.10/dist-packages (from gfpgan==1.3.8->-r https://raw.githubusercontent.com/natelazoyan/Virtual_Influencer/dev/roop/requirements.txt (line 21)) (0.3.0)\n",
            "Requirement already satisfied: lmdb in /usr/local/lib/python3.10/dist-packages (from gfpgan==1.3.8->-r https://raw.githubusercontent.com/natelazoyan/Virtual_Influencer/dev/roop/requirements.txt (line 21)) (1.4.1)\n",
            "Requirement already satisfied: pyyaml in /usr/local/lib/python3.10/dist-packages (from gfpgan==1.3.8->-r https://raw.githubusercontent.com/natelazoyan/Virtual_Influencer/dev/roop/requirements.txt (line 21)) (6.0.1)\n",
            "Requirement already satisfied: tb-nightly in /usr/local/lib/python3.10/dist-packages (from gfpgan==1.3.8->-r https://raw.githubusercontent.com/natelazoyan/Virtual_Influencer/dev/roop/requirements.txt (line 21)) (2.17.0a20240508)\n",
            "Requirement already satisfied: torchvision in /usr/local/lib/python3.10/dist-packages (from gfpgan==1.3.8->-r https://raw.githubusercontent.com/natelazoyan/Virtual_Influencer/dev/roop/requirements.txt (line 21)) (0.15.2+cu118)\n",
            "Requirement already satisfied: yapf in /usr/local/lib/python3.10/dist-packages (from gfpgan==1.3.8->-r https://raw.githubusercontent.com/natelazoyan/Virtual_Influencer/dev/roop/requirements.txt (line 21)) (0.40.2)\n",
            "Requirement already satisfied: cmake in /usr/local/lib/python3.10/dist-packages (from triton==2.0.0->torch==2.0.1->-r https://raw.githubusercontent.com/natelazoyan/Virtual_Influencer/dev/roop/requirements.txt (line 3)) (3.27.9)\n",
            "Requirement already satisfied: lit in /usr/local/lib/python3.10/dist-packages (from triton==2.0.0->torch==2.0.1->-r https://raw.githubusercontent.com/natelazoyan/Virtual_Influencer/dev/roop/requirements.txt (line 3)) (18.1.4)\n",
            "Requirement already satisfied: gdown>=4.2.0 in /usr/local/lib/python3.10/dist-packages (from opennsfw2->-r https://raw.githubusercontent.com/natelazoyan/Virtual_Influencer/dev/roop/requirements.txt (line 22)) (5.1.0)\n",
            "Requirement already satisfied: wheel<1.0,>=0.23.0 in /usr/local/lib/python3.10/dist-packages (from astunparse>=1.6.0->tensorflow==2.14.0->-r https://raw.githubusercontent.com/natelazoyan/Virtual_Influencer/dev/roop/requirements.txt (line 18)) (0.43.0)\n",
            "Requirement already satisfied: addict in /usr/local/lib/python3.10/dist-packages (from basicsr>=1.4.2->gfpgan==1.3.8->-r https://raw.githubusercontent.com/natelazoyan/Virtual_Influencer/dev/roop/requirements.txt (line 21)) (2.4.0)\n",
            "Requirement already satisfied: future in /usr/local/lib/python3.10/dist-packages (from basicsr>=1.4.2->gfpgan==1.3.8->-r https://raw.githubusercontent.com/natelazoyan/Virtual_Influencer/dev/roop/requirements.txt (line 21)) (0.18.3)\n",
            "Requirement already satisfied: filterpy in /usr/local/lib/python3.10/dist-packages (from facexlib>=0.2.5->gfpgan==1.3.8->-r https://raw.githubusercontent.com/natelazoyan/Virtual_Influencer/dev/roop/requirements.txt (line 21)) (1.4.5)\n",
            "Requirement already satisfied: numba in /usr/local/lib/python3.10/dist-packages (from facexlib>=0.2.5->gfpgan==1.3.8->-r https://raw.githubusercontent.com/natelazoyan/Virtual_Influencer/dev/roop/requirements.txt (line 21)) (0.58.1)\n",
            "Requirement already satisfied: beautifulsoup4 in /usr/local/lib/python3.10/dist-packages (from gdown>=4.2.0->opennsfw2->-r https://raw.githubusercontent.com/natelazoyan/Virtual_Influencer/dev/roop/requirements.txt (line 22)) (4.12.3)\n",
            "Requirement already satisfied: contourpy>=1.0.1 in /usr/local/lib/python3.10/dist-packages (from matplotlib->insightface==0.7.3->-r https://raw.githubusercontent.com/natelazoyan/Virtual_Influencer/dev/roop/requirements.txt (line 7)) (1.2.1)\n",
            "Requirement already satisfied: cycler>=0.10 in /usr/local/lib/python3.10/dist-packages (from matplotlib->insightface==0.7.3->-r https://raw.githubusercontent.com/natelazoyan/Virtual_Influencer/dev/roop/requirements.txt (line 7)) (0.12.1)\n",
            "Requirement already satisfied: fonttools>=4.22.0 in /usr/local/lib/python3.10/dist-packages (from matplotlib->insightface==0.7.3->-r https://raw.githubusercontent.com/natelazoyan/Virtual_Influencer/dev/roop/requirements.txt (line 7)) (4.51.0)\n",
            "Requirement already satisfied: kiwisolver>=1.0.1 in /usr/local/lib/python3.10/dist-packages (from matplotlib->insightface==0.7.3->-r https://raw.githubusercontent.com/natelazoyan/Virtual_Influencer/dev/roop/requirements.txt (line 7)) (1.4.5)\n",
            "Requirement already satisfied: pyparsing>=2.3.1 in /usr/local/lib/python3.10/dist-packages (from matplotlib->insightface==0.7.3->-r https://raw.githubusercontent.com/natelazoyan/Virtual_Influencer/dev/roop/requirements.txt (line 7)) (3.1.2)\n",
            "Requirement already satisfied: python-dateutil>=2.7 in /usr/local/lib/python3.10/dist-packages (from matplotlib->insightface==0.7.3->-r https://raw.githubusercontent.com/natelazoyan/Virtual_Influencer/dev/roop/requirements.txt (line 7)) (2.8.2)\n",
            "Requirement already satisfied: imageio>=2.4.1 in /usr/local/lib/python3.10/dist-packages (from scikit-image->insightface==0.7.3->-r https://raw.githubusercontent.com/natelazoyan/Virtual_Influencer/dev/roop/requirements.txt (line 7)) (2.31.6)\n",
            "Requirement already satisfied: tifffile>=2019.7.26 in /usr/local/lib/python3.10/dist-packages (from scikit-image->insightface==0.7.3->-r https://raw.githubusercontent.com/natelazoyan/Virtual_Influencer/dev/roop/requirements.txt (line 7)) (2024.4.24)\n",
            "Requirement already satisfied: PyWavelets>=1.1.1 in /usr/local/lib/python3.10/dist-packages (from scikit-image->insightface==0.7.3->-r https://raw.githubusercontent.com/natelazoyan/Virtual_Influencer/dev/roop/requirements.txt (line 7)) (1.6.0)\n",
            "Requirement already satisfied: google-auth<3,>=1.6.3 in /usr/local/lib/python3.10/dist-packages (from tensorboard<2.15,>=2.14->tensorflow==2.14.0->-r https://raw.githubusercontent.com/natelazoyan/Virtual_Influencer/dev/roop/requirements.txt (line 18)) (2.27.0)\n",
            "Requirement already satisfied: google-auth-oauthlib<1.1,>=0.5 in /usr/local/lib/python3.10/dist-packages (from tensorboard<2.15,>=2.14->tensorflow==2.14.0->-r https://raw.githubusercontent.com/natelazoyan/Virtual_Influencer/dev/roop/requirements.txt (line 18)) (1.0.0)\n",
            "Requirement already satisfied: markdown>=2.6.8 in /usr/local/lib/python3.10/dist-packages (from tensorboard<2.15,>=2.14->tensorflow==2.14.0->-r https://raw.githubusercontent.com/natelazoyan/Virtual_Influencer/dev/roop/requirements.txt (line 18)) (3.6)\n",
            "Requirement already satisfied: tensorboard-data-server<0.8.0,>=0.7.0 in /usr/local/lib/python3.10/dist-packages (from tensorboard<2.15,>=2.14->tensorflow==2.14.0->-r https://raw.githubusercontent.com/natelazoyan/Virtual_Influencer/dev/roop/requirements.txt (line 18)) (0.7.2)\n",
            "Requirement already satisfied: werkzeug>=1.0.1 in /usr/local/lib/python3.10/dist-packages (from tensorboard<2.15,>=2.14->tensorflow==2.14.0->-r https://raw.githubusercontent.com/natelazoyan/Virtual_Influencer/dev/roop/requirements.txt (line 18)) (3.0.2)\n",
            "Requirement already satisfied: charset-normalizer<4,>=2 in /usr/local/lib/python3.10/dist-packages (from requests->insightface==0.7.3->-r https://raw.githubusercontent.com/natelazoyan/Virtual_Influencer/dev/roop/requirements.txt (line 7)) (3.3.2)\n",
            "Requirement already satisfied: idna<4,>=2.5 in /usr/local/lib/python3.10/dist-packages (from requests->insightface==0.7.3->-r https://raw.githubusercontent.com/natelazoyan/Virtual_Influencer/dev/roop/requirements.txt (line 7)) (3.7)\n",
            "Requirement already satisfied: urllib3<3,>=1.21.1 in /usr/local/lib/python3.10/dist-packages (from requests->insightface==0.7.3->-r https://raw.githubusercontent.com/natelazoyan/Virtual_Influencer/dev/roop/requirements.txt (line 7)) (2.0.7)\n",
            "Requirement already satisfied: certifi>=2017.4.17 in /usr/local/lib/python3.10/dist-packages (from requests->insightface==0.7.3->-r https://raw.githubusercontent.com/natelazoyan/Virtual_Influencer/dev/roop/requirements.txt (line 7)) (2024.2.2)\n",
            "Requirement already satisfied: qudida>=0.0.4 in /usr/local/lib/python3.10/dist-packages (from albumentations->insightface==0.7.3->-r https://raw.githubusercontent.com/natelazoyan/Virtual_Influencer/dev/roop/requirements.txt (line 7)) (0.0.4)\n",
            "Requirement already satisfied: opencv-python-headless>=4.1.1 in /usr/local/lib/python3.10/dist-packages (from albumentations->insightface==0.7.3->-r https://raw.githubusercontent.com/natelazoyan/Virtual_Influencer/dev/roop/requirements.txt (line 7)) (4.9.0.80)\n",
            "Requirement already satisfied: humanfriendly>=9.1 in /usr/local/lib/python3.10/dist-packages (from coloredlogs->onnxruntime-gpu==1.15.1->-r https://raw.githubusercontent.com/natelazoyan/Virtual_Influencer/dev/roop/requirements.txt (line 17)) (10.0)\n",
            "Requirement already satisfied: MarkupSafe>=2.0 in /usr/local/lib/python3.10/dist-packages (from jinja2->torch==2.0.1->-r https://raw.githubusercontent.com/natelazoyan/Virtual_Influencer/dev/roop/requirements.txt (line 3)) (2.1.5)\n",
            "Requirement already satisfied: wcwidth in /usr/local/lib/python3.10/dist-packages (from prettytable->insightface==0.7.3->-r https://raw.githubusercontent.com/natelazoyan/Virtual_Influencer/dev/roop/requirements.txt (line 7)) (0.2.13)\n",
            "Requirement already satisfied: joblib>=1.1.1 in /usr/local/lib/python3.10/dist-packages (from scikit-learn->insightface==0.7.3->-r https://raw.githubusercontent.com/natelazoyan/Virtual_Influencer/dev/roop/requirements.txt (line 7)) (1.4.2)\n",
            "Requirement already satisfied: threadpoolctl>=2.0.0 in /usr/local/lib/python3.10/dist-packages (from scikit-learn->insightface==0.7.3->-r https://raw.githubusercontent.com/natelazoyan/Virtual_Influencer/dev/roop/requirements.txt (line 7)) (3.5.0)\n",
            "Requirement already satisfied: mpmath>=0.19 in /usr/local/lib/python3.10/dist-packages (from sympy->torch==2.0.1->-r https://raw.githubusercontent.com/natelazoyan/Virtual_Influencer/dev/roop/requirements.txt (line 3)) (1.3.0)\n",
            "Requirement already satisfied: importlib-metadata>=6.6.0 in /usr/local/lib/python3.10/dist-packages (from yapf->gfpgan==1.3.8->-r https://raw.githubusercontent.com/natelazoyan/Virtual_Influencer/dev/roop/requirements.txt (line 21)) (7.1.0)\n",
            "Requirement already satisfied: platformdirs>=3.5.1 in /usr/local/lib/python3.10/dist-packages (from yapf->gfpgan==1.3.8->-r https://raw.githubusercontent.com/natelazoyan/Virtual_Influencer/dev/roop/requirements.txt (line 21)) (4.2.1)\n",
            "Requirement already satisfied: tomli>=2.0.1 in /usr/local/lib/python3.10/dist-packages (from yapf->gfpgan==1.3.8->-r https://raw.githubusercontent.com/natelazoyan/Virtual_Influencer/dev/roop/requirements.txt (line 21)) (2.0.1)\n",
            "Requirement already satisfied: cachetools<6.0,>=2.0.0 in /usr/local/lib/python3.10/dist-packages (from google-auth<3,>=1.6.3->tensorboard<2.15,>=2.14->tensorflow==2.14.0->-r https://raw.githubusercontent.com/natelazoyan/Virtual_Influencer/dev/roop/requirements.txt (line 18)) (5.3.3)\n",
            "Requirement already satisfied: pyasn1-modules>=0.2.1 in /usr/local/lib/python3.10/dist-packages (from google-auth<3,>=1.6.3->tensorboard<2.15,>=2.14->tensorflow==2.14.0->-r https://raw.githubusercontent.com/natelazoyan/Virtual_Influencer/dev/roop/requirements.txt (line 18)) (0.4.0)\n",
            "Requirement already satisfied: rsa<5,>=3.1.4 in /usr/local/lib/python3.10/dist-packages (from google-auth<3,>=1.6.3->tensorboard<2.15,>=2.14->tensorflow==2.14.0->-r https://raw.githubusercontent.com/natelazoyan/Virtual_Influencer/dev/roop/requirements.txt (line 18)) (4.9)\n",
            "Requirement already satisfied: requests-oauthlib>=0.7.0 in /usr/local/lib/python3.10/dist-packages (from google-auth-oauthlib<1.1,>=0.5->tensorboard<2.15,>=2.14->tensorflow==2.14.0->-r https://raw.githubusercontent.com/natelazoyan/Virtual_Influencer/dev/roop/requirements.txt (line 18)) (1.3.1)\n",
            "Requirement already satisfied: zipp>=0.5 in /usr/local/lib/python3.10/dist-packages (from importlib-metadata>=6.6.0->yapf->gfpgan==1.3.8->-r https://raw.githubusercontent.com/natelazoyan/Virtual_Influencer/dev/roop/requirements.txt (line 21)) (3.18.1)\n",
            "Requirement already satisfied: soupsieve>1.2 in /usr/local/lib/python3.10/dist-packages (from beautifulsoup4->gdown>=4.2.0->opennsfw2->-r https://raw.githubusercontent.com/natelazoyan/Virtual_Influencer/dev/roop/requirements.txt (line 22)) (2.5)\n",
            "Requirement already satisfied: llvmlite<0.42,>=0.41.0dev0 in /usr/local/lib/python3.10/dist-packages (from numba->facexlib>=0.2.5->gfpgan==1.3.8->-r https://raw.githubusercontent.com/natelazoyan/Virtual_Influencer/dev/roop/requirements.txt (line 21)) (0.41.1)\n",
            "Requirement already satisfied: PySocks!=1.5.7,>=1.5.6 in /usr/local/lib/python3.10/dist-packages (from requests->insightface==0.7.3->-r https://raw.githubusercontent.com/natelazoyan/Virtual_Influencer/dev/roop/requirements.txt (line 7)) (1.7.1)\n",
            "Requirement already satisfied: pyasn1<0.7.0,>=0.4.6 in /usr/local/lib/python3.10/dist-packages (from pyasn1-modules>=0.2.1->google-auth<3,>=1.6.3->tensorboard<2.15,>=2.14->tensorflow==2.14.0->-r https://raw.githubusercontent.com/natelazoyan/Virtual_Influencer/dev/roop/requirements.txt (line 18)) (0.6.0)\n",
            "Requirement already satisfied: oauthlib>=3.0.0 in /usr/local/lib/python3.10/dist-packages (from requests-oauthlib>=0.7.0->google-auth-oauthlib<1.1,>=0.5->tensorboard<2.15,>=2.14->tensorflow==2.14.0->-r https://raw.githubusercontent.com/natelazoyan/Virtual_Influencer/dev/roop/requirements.txt (line 18)) (3.2.2)\n"
          ]
        }
      ]
    },
    {
      "cell_type": "markdown",
      "source": [
        "Specify paths to the source image, the target video and output"
      ],
      "metadata": {
        "id": "r2P5UfZ5lqgm"
      }
    },
    {
      "cell_type": "code",
      "source": [
        "#@markdown if your paths are from google drive run this cell to connect to your drive, otherwise pass to the next code\n",
        "from google.colab import drive\n",
        "drive.mount('/content/drive')"
      ],
      "metadata": {
        "id": "7nFrbC4C3f7m",
        "cellView": "form"
      },
      "execution_count": null,
      "outputs": []
    },
    {
      "cell_type": "code",
      "source": [
        "%cd \"/content/Virtual_Influencer/roop\"\n",
        "!python run.py -s \"/content/roop/source.PNG\" @param -t \"/content/roop/target.mp4\" -o \"/content/roop/output.mp4\" --keep-frames --keep-fps --temp-frame-quality 1 --output-video-quality 1 --execution-provider cuda --frame-processor face_swapper face_enhancer"
      ],
      "metadata": {
        "id": "WxXFThjj3jI2"
      },
      "execution_count": null,
      "outputs": []
    }
  ]
}