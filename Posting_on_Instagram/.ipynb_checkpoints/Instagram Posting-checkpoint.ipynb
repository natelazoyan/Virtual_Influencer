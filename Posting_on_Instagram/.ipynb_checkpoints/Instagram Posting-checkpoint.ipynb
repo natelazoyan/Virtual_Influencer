{
 "cells": [
  {
   "cell_type": "code",
   "execution_count": 115,
   "metadata": {},
   "outputs": [],
   "source": [
    "import time\n",
    "from selenium import webdriver\n",
    "from selenium.webdriver.common.by import By\n",
    "from selenium.webdriver.chrome.service import Service\n",
    "from selenium.webdriver.support.ui import WebDriverWait\n",
    "from selenium.webdriver.support import expected_conditions as EC\n",
    "from selenium.webdriver.chrome.options import Options\n",
    "from webdriver_manager.chrome import ChromeDriverManager\n",
    "import random"
   ]
  },
  {
   "cell_type": "code",
   "execution_count": 116,
   "metadata": {},
   "outputs": [],
   "source": [
    "# Configuration data\n",
    "USERNAME = 'noa.aiyan'\n",
    "PASSWORD = 'miqayel2015'\n",
    "IMAGE_PATH = '/Users/ofelya/unnamed.png'  # Adjusted to the correct path\n",
    "  # Update this with the path to the image you want to upload\n",
    "#CAPTION = 'Your caption here'  # Update this with the caption you want for the post\n"
   ]
  },
  {
   "cell_type": "code",
   "execution_count": 117,
   "metadata": {},
   "outputs": [],
   "source": [
    "opts = Options()\n",
    "opts.add_argument(\"--disable-notifications\")  # To disable notifications pop-up after login"
   ]
  },
  {
   "cell_type": "code",
   "execution_count": 105,
   "metadata": {},
   "outputs": [],
   "source": [
    "driver = webdriver.Chrome(service=Service(ChromeDriverManager().install()), options=opts)"
   ]
  },
  {
   "cell_type": "code",
   "execution_count": 106,
   "metadata": {},
   "outputs": [],
   "source": [
    "driver.maximize_window()\n",
    "driver.get(\"https://www.instagram.com/\")\n",
    "time.sleep(random.uniform(2, 5))  # Wait for the page to load\n"
   ]
  },
  {
   "cell_type": "code",
   "execution_count": 107,
   "metadata": {},
   "outputs": [],
   "source": [
    "# Log in\n",
    "username = driver.find_element(By.NAME, 'username')\n",
    "username.send_keys(USERNAME)\n",
    "password = driver.find_element(By.NAME, 'password')\n",
    "password.send_keys(PASSWORD)\n",
    "time.sleep(random.uniform(1, 3))\n",
    "\n",
    "login_button = driver.find_element(By.XPATH, '//*[@id=\"loginForm\"]/div/div[3]/button')\n",
    "login_button.click()\n",
    "time.sleep(random.uniform(3, 6)) "
   ]
  },
  {
   "cell_type": "code",
   "execution_count": 108,
   "metadata": {},
   "outputs": [],
   "source": [
    "wait = WebDriverWait(driver, 10)\n",
    "not_now_button = wait.until(EC.element_to_be_clickable((By.XPATH, \"//div[contains(@role, 'button') and contains(., 'Not now')]\")))\n",
    "time.sleep(random.uniform(1, 3))  \n",
    "# Perform the click action\n",
    "not_now_button.click()"
   ]
  },
  {
   "cell_type": "code",
   "execution_count": 109,
   "metadata": {},
   "outputs": [],
   "source": [
    "new_post_svg = driver.find_element(By.XPATH, '//*[contains(@aria-label, \"New post\")]')\n",
    "time.sleep(random.uniform(2, 5))\n",
    "new_post_svg.click()\n"
   ]
  },
  {
   "cell_type": "code",
   "execution_count": 110,
   "metadata": {},
   "outputs": [],
   "source": [
    "post_link = driver.find_element(By.PARTIAL_LINK_TEXT, 'Post')\n",
    "time.sleep(random.uniform(3, 6))\n",
    "post_link.click()\n",
    "\n"
   ]
  },
  {
   "cell_type": "code",
   "execution_count": 111,
   "metadata": {},
   "outputs": [],
   "source": [
    "time.sleep(random.uniform(1, 3))\n",
    "file_input = driver.find_element(By.CSS_SELECTOR, 'input[type=\"file\"]')\n",
    "file_input.send_keys(IMAGE_PATH)\n"
   ]
  },
  {
   "cell_type": "code",
   "execution_count": 112,
   "metadata": {},
   "outputs": [],
   "source": [
    "# Wait for the Next button to be clickable after the image is uploaded and click it\n",
    "time.sleep(random.uniform(1, 4))\n",
    "WebDriverWait(driver, 10).until(\n",
    "    EC.element_to_be_clickable((By.XPATH, '//div[text()=\"Next\"]'))\n",
    ").click()"
   ]
  },
  {
   "cell_type": "code",
   "execution_count": 113,
   "metadata": {},
   "outputs": [],
   "source": [
    "# Wait for the Next button to be clickable after the image is uploaded and click it\n",
    "time.sleep(random.uniform(2, 5))\n",
    "WebDriverWait(driver, 5).until(\n",
    "    EC.element_to_be_clickable((By.XPATH, '//div[text()=\"Next\"]'))\n",
    ").click()"
   ]
  },
  {
   "cell_type": "code",
   "execution_count": 114,
   "metadata": {},
   "outputs": [],
   "source": [
    "# Wait for the Share button to be clickable after entering the caption and click it\n",
    "time.sleep(random.uniform(1, 3))\n",
    "WebDriverWait(driver, 10).until(\n",
    "    EC.element_to_be_clickable((By.XPATH, '//div[text()=\"Share\"]'))\n",
    ").click()"
   ]
  },
  {
   "cell_type": "code",
   "execution_count": 84,
   "metadata": {},
   "outputs": [],
   "source": [
    "# Wait for some time before closing the browser\n",
    "time.sleep(5)\n",
    "\n",
    "# Close the browser after the post is made\n",
    "driver.quit()"
   ]
  },
  {
   "cell_type": "code",
   "execution_count": null,
   "metadata": {},
   "outputs": [],
   "source": []
  },
  {
   "cell_type": "code",
   "execution_count": null,
   "metadata": {},
   "outputs": [],
   "source": []
  }
 ],
 "metadata": {
  "kernelspec": {
   "display_name": "Python 3",
   "language": "python",
   "name": "python3"
  },
  "language_info": {
   "codemirror_mode": {
    "name": "ipython",
    "version": 3
   },
   "file_extension": ".py",
   "mimetype": "text/x-python",
   "name": "python",
   "nbconvert_exporter": "python",
   "pygments_lexer": "ipython3",
   "version": "3.8.5"
  }
 },
 "nbformat": 4,
 "nbformat_minor": 4
}
