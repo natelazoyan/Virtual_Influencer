{
  "cells": [
    {
      "cell_type": "markdown",
      "metadata": {
        "id": "Oda94QcEv2xN"
      },
      "source": [
        "**Video DeepFaking with One Click**"
      ]
    },
    {
      "cell_type": "code",
      "execution_count": null,
      "metadata": {
        "id": "In5lvdNJHdnW"
      },
      "outputs": [],
      "source": [
        "!git clone https://github.com/natelazoyan/Virtual_Influencer.git"
      ]
    },
    {
      "cell_type": "code",
      "execution_count": null,
      "metadata": {
        "cellView": "form",
        "id": "rKzdK0SPHhB2"
      },
      "outputs": [],
      "source": [
        "#@markdown Install Requirements\n",
        "!pip install -r https://raw.githubusercontent.com/natelazoyan/Virtual_Influencer/main/roop/requirements.txt\n",
        "!pip install tensorflow==2.15\n",
        "!pip install keras==2.14.0"
      ]
    },
    {
      "cell_type": "markdown",
      "metadata": {
        "id": "r2P5UfZ5lqgm"
      },
      "source": [
        "Specify paths to the source image, the target video and output"
      ]
    },
    {
      "cell_type": "code",
      "execution_count": null,
      "metadata": {
        "cellView": "form",
        "id": "7nFrbC4C3f7m"
      },
      "outputs": [],
      "source": [
        "#@markdown if your paths are from google drive run this cell to connect to your drive, otherwise pass to the next code\n",
        "from google.colab import drive\n",
        "drive.mount('/content/drive')"
      ]
    },
    {
      "cell_type": "code",
      "execution_count": null,
      "metadata": {
        "id": "-45rKKZ-Hkli"
      },
      "outputs": [],
      "source": [
        "%cd \"/content/Virtual_Influencer/roop\"\n",
        "!python run.py -s \"/content/Virtual_Influencer/roop/source.png\" -t \"/content/Virtual_Influencer/roop/target.mp4\" -o \"/content/Virtual_Influencer/roop/output.mp4\" --keep-frames --keep-fps --temp-frame-quality 1 --output-video-quality 1 --execution-provider cuda --frame-processor face_swapper face_enhancer"
      ]
    }
  ],
  "metadata": {
    "colab": {
      "provenance": []
    },
    "kernelspec": {
      "display_name": "Python 3",
      "name": "python3"
    },
    "language_info": {
      "name": "python"
    }
  },
  "nbformat": 4,
  "nbformat_minor": 0
}
