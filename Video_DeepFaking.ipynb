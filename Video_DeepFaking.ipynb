{
  "nbformat": 4,
  "nbformat_minor": 0,
  "metadata": {
    "colab": {
      "provenance": []
    },
    "kernelspec": {
      "name": "python3",
      "display_name": "Python 3"
    },
    "language_info": {
      "name": "python"
    }
  },
  "cells": [
    {
      "cell_type": "markdown",
      "source": [
        "**Video DeepFaking with One Click**"
      ],
      "metadata": {
        "id": "Oda94QcEv2xN"
      }
    },
    {
      "cell_type": "code",
      "source": [
        "!git clone -b dev https://github.com/natelazoyan/Virtual_Influencer.git"
      ],
      "metadata": {
        "id": "In5lvdNJHdnW"
      },
      "execution_count": null,
      "outputs": []
    },
    {
      "cell_type": "code",
      "source": [
        "#@markdown Install Requirements\n",
        "!pip install -r https://raw.githubusercontent.com/natelazoyan/Virtual_Influencer/dev/roop/requirements.txt\n",
        "!pip install tensorflow==2.15\n",
        "!pip install keras==2.14.0"
      ],
      "metadata": {
        "cellView": "form",
        "id": "rKzdK0SPHhB2"
      },
      "execution_count": null,
      "outputs": []
    },
    {
      "cell_type": "markdown",
      "source": [
        "Specify paths to the source image, the target video and output"
      ],
      "metadata": {
        "id": "r2P5UfZ5lqgm"
      }
    },
    {
      "cell_type": "code",
      "source": [
        "#@markdown if your paths are from google drive run this cell to connect to your drive, otherwise pass to the next code\n",
        "from google.colab import drive\n",
        "drive.mount('/content/drive')"
      ],
      "metadata": {
        "id": "7nFrbC4C3f7m",
        "cellView": "form"
      },
      "execution_count": null,
      "outputs": []
    },
    {
      "cell_type": "code",
      "source": [
        "%cd \"/content/Virtual_Influencer/roop\"\n",
        "!python run.py -s \"/content/Virtual_Influencer/roop/source.png\" -t \"/content/Virtual_Influencer/roop/target.mp4\" -o \"/content/Virtual_Influencer/roop/output.mp4\" --keep-frames --keep-fps --temp-frame-quality 1 --output-video-quality 1 --execution-provider cuda --frame-processor face_swapper face_enhancer"
      ],
      "metadata": {
        "id": "-45rKKZ-Hkli"
      },
      "execution_count": null,
      "outputs": []
    }
  ]
}